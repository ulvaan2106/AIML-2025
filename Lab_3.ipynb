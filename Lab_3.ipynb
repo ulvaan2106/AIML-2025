{
  "nbformat": 4,
  "nbformat_minor": 0,
  "metadata": {
    "colab": {
      "provenance": [],
      "authorship_tag": "ABX9TyPWCJS99au60XAqI8JM8UV0",
      "include_colab_link": true
    },
    "kernelspec": {
      "name": "python3",
      "display_name": "Python 3"
    },
    "language_info": {
      "name": "python"
    }
  },
  "cells": [
    {
      "cell_type": "markdown",
      "metadata": {
        "id": "view-in-github",
        "colab_type": "text"
      },
      "source": [
        "<a href=\"https://colab.research.google.com/github/ulvaan2106/AIML-2025/blob/main/Lab_3.ipynb\" target=\"_parent\"><img src=\"https://colab.research.google.com/assets/colab-badge.svg\" alt=\"Open In Colab\"/></a>"
      ]
    },
    {
      "cell_type": "markdown",
      "source": [
        "Implement AI Game Strategy using Adversarial Search Algorithms"
      ],
      "metadata": {
        "id": "KZSvmnqUt3pq"
      }
    },
    {
      "cell_type": "markdown",
      "source": [
        "Part-01: List of Tasks to Perform\n",
        "\n",
        "1.Install the Python Libraries for Game Strategy\n",
        "\n",
        "2.Implement a Game Class Constructor with - actions, is_terminal, result, utility\n",
        "\n",
        "3.Implement a Player Game using game class function"
      ],
      "metadata": {
        "id": "M7jyvdNStidS"
      }
    },
    {
      "cell_type": "code",
      "source": [
        "from collections import namedtuple, Counter, defaultdict\n",
        "import random\n",
        "import math\n",
        "import functools\n",
        "cache = functools.lru_cache(10**6)\n"
      ],
      "metadata": {
        "id": "t70wP3evtynR"
      },
      "execution_count": 1,
      "outputs": []
    },
    {
      "cell_type": "code",
      "source": [
        "class Game:\n",
        "    def actions(self, state):\n",
        "        raise NotImplementedError\n",
        "    def result(self, state, move):\n",
        "        raise NotImplementedError\n",
        "    def is_terminal(self, state):\n",
        "        return not self.actions(state)\n",
        "    def utility(self, state, player):\n",
        "        raise NotImplementedError"
      ],
      "metadata": {
        "id": "Zm5vwU4huCAC"
      },
      "execution_count": 2,
      "outputs": []
    },
    {
      "cell_type": "code",
      "source": [
        "def play_game(game, strategies: dict, verbose=False):\n",
        "    state = game.initial\n",
        "    while not game.is_terminal(state):\n",
        "        player = state.to_move\n",
        "        move = strategies[player](game, state)\n",
        "        state = game.result(state, move)\n",
        "        if verbose:\n",
        "            print('Player', player, 'move:', move)\n",
        "            print(state)\n",
        "    return state"
      ],
      "metadata": {
        "id": "wO4EoktduHmc"
      },
      "execution_count": 3,
      "outputs": []
    },
    {
      "cell_type": "markdown",
      "source": [
        "Part-02: Implementation of Game Strategy Algorithm\n",
        "\n",
        "1.MiniMax Tree\n",
        "\n",
        "2.Alpha-Beta Search Algorithm\n",
        "\n",
        "\n"
      ],
      "metadata": {
        "id": "swS4Bl7ouP28"
      }
    },
    {
      "cell_type": "code",
      "source": [
        "def minimax_search(game, state):\n",
        "    player = state.to_move\n",
        "    def max_value(state):\n",
        "        if game.is_terminal(state):\n",
        "            return game.utility(state, player), None\n",
        "        v, move = -infinity, None\n",
        "        for a in game.actions(state):\n",
        "            v2, _ = min_value(game.result(state, a))\n",
        "            if v2 > v:\n",
        "                v, move = v2, a\n",
        "        return v, move\n",
        "    def min_value(state):\n",
        "        if game.is_terminal(state):\n",
        "            return game.utility(state, player), None\n",
        "        v, move = +infinity, None\n",
        "        for a in game.actions(state):\n",
        "            v2, _ = max_value(game.result(state, a))\n",
        "            if v2 < v:\n",
        "                v, move = v2, a\n",
        "        return v, move\n",
        "    return max_value(state)\n",
        "infinity = math.inf"
      ],
      "metadata": {
        "id": "QRwtmfhTuXMS"
      },
      "execution_count": 4,
      "outputs": []
    },
    {
      "cell_type": "code",
      "source": [
        "def alphabeta_search(game, state):\n",
        "    player = state.to_move\n",
        "\n",
        "    def max_value(state, alpha, beta):\n",
        "        if game.is_terminal(state):\n",
        "            return game.utility(state, player), None\n",
        "        v, move = -infinity, None\n",
        "        for a in game.actions(state):\n",
        "            v2, _ = min_value(game.result(state, a), alpha, beta)\n",
        "            if v2 > v:\n",
        "                v, move = v2, a\n",
        "                alpha = max(alpha, v)\n",
        "            if v >= beta:\n",
        "                return v, move\n",
        "        return v, move\n",
        "    def min_value(state, alpha, beta):\n",
        "        if game.is_terminal(state):\n",
        "            return game.utility(state, player), None\n",
        "        v, move = +infinity, None\n",
        "        for a in game.actions(state):\n",
        "            v2, _ = max_value(game.result(state, a), alpha, beta)\n",
        "            if v2 < v:\n",
        "                v, move = v2, a\n",
        "                beta = min(beta, v)\n",
        "            if v <= alpha:\n",
        "                return v, move\n",
        "        return v, move\n",
        "    return max_value(state, -infinity, +infinity)"
      ],
      "metadata": {
        "id": "Re39KywkuYb9"
      },
      "execution_count": 5,
      "outputs": []
    },
    {
      "cell_type": "markdown",
      "source": [
        "Part-03: Implement the Game Strategy using TicTacToe"
      ],
      "metadata": {
        "id": "zTYvtkSCultJ"
      }
    },
    {
      "cell_type": "code",
      "source": [
        "class TicTacToe(Game):\n",
        "    def __init__(self, height=3, width=3, k=3):\n",
        "        self.k = k # k in a row\n",
        "        self.squares = {(x, y) for x in range(width) for y in range(height)}\n",
        "        self.initial = Board(height=height, width=width, to_move='X', utility=0)\n",
        "    def actions(self, board):\n",
        "        return self.squares - set(board)\n",
        "    def result(self, board, square):\n",
        "        player = board.to_move\n",
        "        board = board.new({square: player}, to_move=('O' if player == 'X' else 'X'))\n",
        "        win = k_in_row(board, player, square, self.k)\n",
        "        board.utility = (0 if not win else +1 if player == 'X' else -1)\n",
        "        return board\n",
        "    def utility(self, board, player):\n",
        "        return board.utility if player == 'X' else -board.utility\n",
        "    def is_terminal(self, board):\n",
        "        return board.utility != 0 or len(self.squares) == len(board)\n",
        "    def display(self, board): print(board)\n",
        "def k_in_row(board, player, square, k):\n",
        "    def in_row(x, y, dx, dy): return 0 if board[x, y] != player else 1 + in_row(x + dx, y + dy, dx, dy)\n",
        "    return any(in_row(*square, dx, dy) + in_row(*square, -dx, -dy)-1>=k\n",
        "               for (dx, dy) in ((0, 1), (1, 0), (1, 1), (1, -1)))"
      ],
      "metadata": {
        "id": "-ITlv_tquqtv"
      },
      "execution_count": 6,
      "outputs": []
    },
    {
      "cell_type": "code",
      "source": [
        "class Board(defaultdict):\n",
        "    empty = '.'\n",
        "    off = '#'\n",
        "    def __init__(self, width=8, height=8, to_move=None, **kwds):\n",
        "        self.__dict__.update(width=width, height=height, to_move=to_move, **kwds)\n",
        "    def new(self, changes: dict, **kwds) -> 'Board':\n",
        "        \"Given a dict of {(x, y): contents} changes, return a new Board with the changes.\"\n",
        "        board = Board(width=self.width, height=self.height, **kwds)\n",
        "        board.update(self)\n",
        "        board.update(changes)\n",
        "        return board\n",
        "    def __missing__(self, loc):\n",
        "        x, y = loc\n",
        "        if 0 <= x < self.width and 0 <= y < self.height:\n",
        "            return self.empty\n",
        "        else:\n",
        "            return self.off\n",
        "    def __hash__(self):\n",
        "        return hash(tuple(sorted(self.items()))) + hash(self.to_move)\n",
        "    def __repr__(self):\n",
        "        def row(y): return ' '.join(self[x, y] for x in range(self.width))\n",
        "        return '\\n'.join(map(row, range(self.height))) +  '\\n'\n"
      ],
      "metadata": {
        "id": "dL6KMuJhuwYU"
      },
      "execution_count": 7,
      "outputs": []
    },
    {
      "cell_type": "code",
      "source": [
        "def random_player(game, state): return random.choice(list(game.actions(state)))\n",
        "def player(search_algorithm):\n",
        "    return lambda game, state: search_algorithm(game, state)[1]"
      ],
      "metadata": {
        "id": "hpBsfVisuxYB"
      },
      "execution_count": 8,
      "outputs": []
    },
    {
      "cell_type": "markdown",
      "source": [
        "Double-click (or enter) to edit\n",
        "\n",
        "Evaluate the Game Strategy using TicTokToe"
      ],
      "metadata": {
        "id": "jIjZ_LI_u7GM"
      }
    },
    {
      "cell_type": "code",
      "source": [
        "play_game(TicTacToe(), dict(X=random_player, O=player(alphabeta_search)), verbose=True).utility\n"
      ],
      "metadata": {
        "colab": {
          "base_uri": "https://localhost:8080/"
        },
        "id": "s1tcHwiju8UN",
        "outputId": "4f6fb3a8-ea2b-4118-807b-63fc9b953fb3"
      },
      "execution_count": 9,
      "outputs": [
        {
          "output_type": "stream",
          "name": "stdout",
          "text": [
            "Player X move: (1, 1)\n",
            ". . .\n",
            ". X .\n",
            ". . .\n",
            "\n",
            "Player O move: (0, 0)\n",
            "O . .\n",
            ". X .\n",
            ". . .\n",
            "\n",
            "Player X move: (2, 2)\n",
            "O . .\n",
            ". X .\n",
            ". . X\n",
            "\n",
            "Player O move: (2, 0)\n",
            "O . O\n",
            ". X .\n",
            ". . X\n",
            "\n",
            "Player X move: (0, 2)\n",
            "O . O\n",
            ". X .\n",
            "X . X\n",
            "\n",
            "Player O move: (1, 0)\n",
            "O O O\n",
            ". X .\n",
            "X . X\n",
            "\n"
          ]
        },
        {
          "output_type": "execute_result",
          "data": {
            "text/plain": [
              "-1"
            ]
          },
          "metadata": {},
          "execution_count": 9
        }
      ]
    }
  ]
}